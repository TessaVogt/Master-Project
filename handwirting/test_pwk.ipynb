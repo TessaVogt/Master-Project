{
 "cells": [
  {
   "cell_type": "code",
   "execution_count": 1,
   "metadata": {},
   "outputs": [],
   "source": [
    "import pywhatkit as pwk\n",
    "import matplotlib.pyplot as plt"
   ]
  },
  {
   "cell_type": "code",
   "execution_count": 2,
   "metadata": {},
   "outputs": [
    {
     "ename": "UnableToAccessApi",
     "evalue": "Unable to access Pywhatkit api right now",
     "output_type": "error",
     "traceback": [
      "\u001b[1;31m---------------------------------------------------------------------------\u001b[0m",
      "\u001b[1;31mUnableToAccessApi\u001b[0m                         Traceback (most recent call last)",
      "\u001b[1;32mc:\\Users\\tvogt\\OneDrive\\Dokumente\\GitHub\\Master-Project\\handwirting\\test_pwk.ipynb Cell 2\u001b[0m in \u001b[0;36m2\n\u001b[0;32m      <a href='vscode-notebook-cell:/c%3A/Users/tvogt/OneDrive/Dokumente/GitHub/Master-Project/handwirting/test_pwk.ipynb#W1sZmlsZQ%3D%3D?line=0'>1</a>\u001b[0m text \u001b[39m=\u001b[39m \u001b[39m\"\u001b[39m\u001b[39mA B C D E F G H I j k L M N O P Q R S T U V W X Y Z\u001b[39m\u001b[39m\"\u001b[39m\n\u001b[1;32m----> <a href='vscode-notebook-cell:/c%3A/Users/tvogt/OneDrive/Dokumente/GitHub/Master-Project/handwirting/test_pwk.ipynb#W1sZmlsZQ%3D%3D?line=1'>2</a>\u001b[0m pwk\u001b[39m.\u001b[39;49mtext_to_handwriting(text, \u001b[39m'\u001b[39;49m\u001b[39mout.png\u001b[39;49m\u001b[39m'\u001b[39;49m)\n\u001b[0;32m      <a href='vscode-notebook-cell:/c%3A/Users/tvogt/OneDrive/Dokumente/GitHub/Master-Project/handwirting/test_pwk.ipynb#W1sZmlsZQ%3D%3D?line=3'>4</a>\u001b[0m plt\u001b[39m.\u001b[39mimshow(\u001b[39m'\u001b[39m\u001b[39mout.png\u001b[39m\u001b[39m'\u001b[39m)\n",
      "File \u001b[1;32mc:\\Users\\tvogt\\AppData\\Local\\Programs\\Python\\Python39\\lib\\site-packages\\pywhatkit\\handwriting.py:22\u001b[0m, in \u001b[0;36mtext_to_handwriting\u001b[1;34m(string, save_to, rgb)\u001b[0m\n\u001b[0;32m     20\u001b[0m         file\u001b[39m.\u001b[39mclose()\n\u001b[0;32m     21\u001b[0m \u001b[39melif\u001b[39;00m \u001b[39m400\u001b[39m \u001b[39m<\u001b[39m\u001b[39m=\u001b[39m status_code \u001b[39m<\u001b[39m\u001b[39m=\u001b[39m \u001b[39m599\u001b[39m:\n\u001b[1;32m---> 22\u001b[0m     \u001b[39mraise\u001b[39;00m exceptions\u001b[39m.\u001b[39mUnableToAccessApi(\u001b[39m\"\u001b[39m\u001b[39mUnable to access Pywhatkit api right now\u001b[39m\u001b[39m\"\u001b[39m)\n",
      "\u001b[1;31mUnableToAccessApi\u001b[0m: Unable to access Pywhatkit api right now"
     ]
    }
   ],
   "source": [
    "text = \"A B C D E F G H I j k L M N O P Q R S T U V W X Y Z\"\n",
    "pwk.text_to_handwriting(text, 'out.png')\n",
    "\n",
    "plt.imshow('out.png')\n"
   ]
  }
 ],
 "metadata": {
  "kernelspec": {
   "display_name": "Python 3",
   "language": "python",
   "name": "python3"
  },
  "language_info": {
   "codemirror_mode": {
    "name": "ipython",
    "version": 3
   },
   "file_extension": ".py",
   "mimetype": "text/x-python",
   "name": "python",
   "nbconvert_exporter": "python",
   "pygments_lexer": "ipython3",
   "version": "3.9.13"
  },
  "orig_nbformat": 4
 },
 "nbformat": 4,
 "nbformat_minor": 2
}
